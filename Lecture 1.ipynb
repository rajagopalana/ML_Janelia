{
 "cells": [
  {
   "cell_type": "markdown",
   "metadata": {},
   "source": [
    "Lecture 1 : Intro + What is machine learning"
   ]
  },
  {
   "cell_type": "markdown",
   "metadata": {},
   "source": [
    "Supervised Machine Learning (S-ML) : eg. Classification, Regression\n",
    "    - Have both input and output that is then fed into the algo\n",
    "\n",
    "Unsupervised Machine Learning (U-ML) : eg. Clustering\n",
    "    - Only input needs to be fed into the algo\n"
   ]
  },
  {
   "cell_type": "markdown",
   "metadata": {},
   "source": [
    "Linear Regression : \n",
    "\n",
    "normalizing inputs is a common theme in ML - will be seen in lab\n",
    "\n",
    "Data : eg. y = x*2 (input here is x, output is y) in regression you have both x and y.\n",
    "\n",
    "Model :  A way to tell the system what you think about the data (in the ex. of linear regression this model is a straight line)\n",
    "\n",
    "Parameters : knobs on the model that can be changed to vary the model. (in the ex. of a straight line this is slope and intercept)\n",
    "\n",
    "\n",
    "Linear algebra behind the regression : check slides if needed.\n",
    "\n",
    "Probability theory recap : check slides if needed\n",
    "\n",
    "Maximum Likelihood Estimation : \n",
    "    ln(p(mu;x1,x2,x3...,xn)) = - sum(mu-xi) [ where xi are data points and mu is the mean you are trying to fit to\n",
    "    these points - so a minimization of sum of differences is a maximization of the ln(p)\n"
   ]
  },
  {
   "cell_type": "markdown",
   "metadata": {},
   "source": [
    "Classification : \n",
    "\n",
    "   y is the classes into which data is being classified\n",
    "   x are the objects used to make this classification \n",
    "   [Think about the hockey baseball classificaiton used in class]\n",
    "    \n",
    "   A Naive Bayes Classifier is Bayes rule assuming conditional independence.\n",
    "    \n",
    "  "
   ]
  }
 ],
 "metadata": {
  "kernelspec": {
   "display_name": "Python 3",
   "language": "python",
   "name": "python3"
  },
  "language_info": {
   "codemirror_mode": {
    "name": "ipython",
    "version": 3
   },
   "file_extension": ".py",
   "mimetype": "text/x-python",
   "name": "python",
   "nbconvert_exporter": "python",
   "pygments_lexer": "ipython3",
   "version": "3.6.3"
  }
 },
 "nbformat": 4,
 "nbformat_minor": 2
}
