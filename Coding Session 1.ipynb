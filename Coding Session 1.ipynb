{
 "cells": [
  {
   "cell_type": "code",
   "execution_count": 18,
   "metadata": {
    "collapsed": true
   },
   "outputs": [],
   "source": [
    "%matplotlib inline\n",
    "\n",
    "import numpy as np\n",
    "import numpy.random as rng\n",
    "import matplotlib\n",
    "import matplotlib.pyplot as plt\n",
    "import sklearn\n",
    "from sklearn import datasets, linear_model\n",
    "from sklearn.linear_model import LinearRegression\n",
    "from sklearn.datasets import fetch_20newsgroups\n",
    "# import seaborn as sns; sns.set()"
   ]
  },
  {
   "cell_type": "code",
   "execution_count": 61,
   "metadata": {},
   "outputs": [],
   "source": [
    "\n",
    "# Set up small diabetes training data # Set u \n",
    "rng.seed(42)\n",
    "diabetes_data = datasets.load_diabetes()\n",
    "N = len(diabetes_data.target)\n",
    "i = rng.randint(0,N-1,[100])\n",
    "X_train = diabetes_data.data[i,np.newaxis,2]\n",
    "y_train = diabetes_data.target[i]\n",
    "\n",
    "itest = np.setdiff1d( rng.randint(0,N-1,103), i)\n",
    "Xtest = diabetes_data.data[itest,np.newaxis,2]\n",
    "ytest = diabetes_data.target[itest]"
   ]
  },
  {
   "cell_type": "code",
   "execution_count": 20,
   "metadata": {},
   "outputs": [],
   "source": [
    "# Download the newsgroups data\n",
    "data_newsgroups = fetch_20newsgroups()\n",
    "data_newsgroups.target_names;"
   ]
  },
  {
   "cell_type": "code",
   "execution_count": 21,
   "metadata": {
    "collapsed": true
   },
   "outputs": [],
   "source": [
    "# Settings\n",
    "matplotlib.rcParams['figure.figsize'] = (10.0, 7.0)\n",
    "matplotlib.rcParams.update({'font.size': 24})\n",
    "matplotlib.rcParams.update({'lines.markersize': 12})\n",
    "\n",
    "matplotlib.rcParams['axes.grid'] = True\n",
    "matplotlib.rcParams['grid.color'] = 'gray'\n",
    "matplotlib.rcParams['grid.linewidth'] = 0.5\n",
    "# matplotlib.rcParams"
   ]
  },
  {
   "cell_type": "code",
   "execution_count": 22,
   "metadata": {},
   "outputs": [
    {
     "data": {
      "text/plain": [
       "<function matplotlib.pyplot.show>"
      ]
     },
     "execution_count": 22,
     "metadata": {},
     "output_type": "execute_result"
    },
    {
     "data": {
      "image/png": "[encoded data removed]",
      "text/plain": [
       "<matplotlib.figure.Figure at 0x108d0fc88>"
      ]
     },
     "metadata": {},
     "output_type": "display_data"
    }
   ],
   "source": [
    "plt.scatter( X_train, y_train )\n",
    "plt.ylabel('Diabetes progression')\n",
    "plt.xlabel('Average blood pressure');\n"
   ]
  },
  {
   "cell_type": "code",
   "execution_count": 63,
   "metadata": {},
   "outputs": [
    {
     "name": "stdout",
     "output_type": "stream",
     "text": [
      "Optimal parameters: \n",
      "slope: 814.390\n",
      "intercept: 0.000\n"
     ]
    }
   ],
   "source": [
    "\n",
    "# A linear model# A lin \n",
    "model = LinearRegression(fit_intercept = False)\n",
    "\n",
    "# Train the model using the training sets\n",
    "# i.e., find parameters that make the model best fit the data\n",
    "model.fit(X_train, y_train)\n",
    "# What are the parameters we found to be best?\n",
    "print('Optimal parameters: ')\n",
    "print('slope: {:.3f}\\nintercept: {:.3f}'.format(model.coef_[0], model.intercept_ ))"
   ]
  },
  {
   "cell_type": "code",
   "execution_count": 32,
   "metadata": {},
   "outputs": [
    {
     "name": "stdout",
     "output_type": "stream",
     "text": [
      "[[2, 3], [4, 5]]\n",
      " \n",
      "[[2 3]\n",
      " [4 5]]\n",
      " \n",
      "[[ -0.5]\n",
      " [ 10. ]]\n"
     ]
    }
   ],
   "source": [
    "a_list = [2, 3]\n",
    "another_list = [4, 5]\n",
    "a_list_of_lists = [a_list, another_list]\n",
    "print( a_list_of_lists )\n",
    "print( ' ' )\n",
    "\n",
    "a_matrix = np.array(a_list_of_lists)\n",
    "print( a_matrix )\n",
    "print( ' ' )\n",
    "\n",
    "a_vector = np.array( [[-0.5], [10]]) # write it like this so it's a column vector\n",
    "print( a_vector )\n"
   ]
  },
  {
   "cell_type": "code",
   "execution_count": 31,
   "metadata": {},
   "outputs": [
    {
     "name": "stdout",
     "output_type": "stream",
     "text": [
      "[2 3]\n"
     ]
    }
   ],
   "source": [
    "a = [2,3]\n",
    "b = [4,7]\n",
    "ab = np.array(a)\n",
    "print(ab)"
   ]
  },
  {
   "cell_type": "markdown",
   "metadata": {},
   "source": [
    "data.shape will give you the dimensions of the data\n",
    "\n",
    "numpy.linalg is an environment that contains a whole bunch of useful matrix and system of equation solving methods"
   ]
  },
  {
   "cell_type": "code",
   "execution_count": 45,
   "metadata": {},
   "outputs": [
    {
     "data": {
      "text/plain": [
       "(100, 10)"
      ]
     },
     "execution_count": 45,
     "metadata": {},
     "output_type": "execute_result"
    }
   ],
   "source": [
    "rng.seed(42)\n",
    "diabetes_data = datasets.load_diabetes()\n",
    "#print(diabetes_data.data)\n",
    "#print(diabetes_data.target)\n",
    "# i is defined as a random set of integers earlier\n",
    "i.shape"
   ]
  },
  {
   "cell_type": "markdown",
   "metadata": {},
   "source": [
    "Setting up a matrix equation in code :\n",
    "    Xp = y \n",
    "    \n",
    "    X contains data \n",
    "    p contains the parameters of the linear model\n",
    "    y is the output"
   ]
  },
  {
   "cell_type": "code",
   "execution_count": 76,
   "metadata": {},
   "outputs": [],
   "source": [
    "X = diabetes_data.data[i,np.newaxis,2]\n",
    "y = diabetes_data.target[i]\n",
    "y.shape\n",
    "X.shape\n",
    "diabetes_data.target.shape\n",
    "diabetes_data.data.shape\n",
    "m = LinearRegression\n"
   ]
  },
  {
   "cell_type": "code",
   "execution_count": null,
   "metadata": {},
   "outputs": [],
   "source": []
  },
  {
   "cell_type": "code",
   "execution_count": null,
   "metadata": {
    "collapsed": true
   },
   "outputs": [],
   "source": []
  }
 ],
 "metadata": {
  "kernelspec": {
   "display_name": "Python 3",
   "language": "python",
   "name": "python3"
  },
  "language_info": {
   "codemirror_mode": {
    "name": "ipython",
    "version": 3
   },
   "file_extension": ".py",
   "mimetype": "text/x-python",
   "name": "python",
   "nbconvert_exporter": "python",
   "pygments_lexer": "ipython3",
   "version": "3.6.3"
  }
 },
 "nbformat": 4,
 "nbformat_minor": 2
}
