{
 "cells": [
  {
   "cell_type": "markdown",
   "metadata": {},
   "source": [
    "Lecture 3: Supervised Learning 2 - Non linear\n",
    "\n",
    "McCulloh and Pitts neuron model. \n",
    "\n",
    "made up of perceptrons. which sum inputs and then pass them through a non-linearity (remember the previous lecture). In the original model this non-linearity was just a step function.\n",
    "\n",
    "\n",
    "What happens when you add a hidden layer?\n",
    "\n",
    "- Might be able to solve the XOR problem that cannot be solved without hidden layers\n",
    "\n",
    "Much of flexibilty and ability of a neural network comes from the ability to have many weights and not really dependent on the nature of the non-linearity\n",
    "\n",
    "- A single hidden layer can solve the XOR problem\n",
    "\n",
    "The nature of a Artifical Neural Network is very similar to the way you are talking about the PN-MB circuit. the ideas you are talking about in that paper do infact apply to aspects of neural networks. Make sure you talk about things this way as well when you talk about this work.\n",
    "\n",
    "\n",
    "Now we know that a network with hidden layers is multiple instantiations of GLMs. The aim would be therefore to minimize the loss function at all of these layers. But how do we solve the weights at many different layers?\n",
    "\n",
    "calculate a gradient of the predicted output. From the gradient you can figure out how to change the output so that you minimize the error. This can be propagated backwards through the various layers\n",
    "\n",
    "in practice batch gradient descent or stochastic gradient descent is used to compute the gradient and then make changes to the weights\n",
    "\n",
    "Adaptive Moment Estimation method of calculating gradient descent is currently very popular\n",
    "\n"
   ]
  }
 ],
 "metadata": {
  "kernelspec": {
   "display_name": "Python 3",
   "language": "python",
   "name": "python3"
  },
  "language_info": {
   "codemirror_mode": {
    "name": "ipython",
    "version": 3
   },
   "file_extension": ".py",
   "mimetype": "text/x-python",
   "name": "python",
   "nbconvert_exporter": "python",
   "pygments_lexer": "ipython3",
   "version": "3.6.3"
  }
 },
 "nbformat": 4,
 "nbformat_minor": 2
}
