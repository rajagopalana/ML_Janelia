{
 "cells": [
  {
   "cell_type": "markdown",
   "metadata": {},
   "source": [
    "Lecture 2:\n",
    "\n",
    "-Key elements of SL\n",
    "-Linear Regression (again) - look into last weeks notes for more details\n",
    "-GLM\n",
    "\n",
    "\n",
    "GLM : \n",
    "\n",
    "Logistic GLMs -\n",
    "\n",
    "While trying to perform a supervised classification one would use a linear regression followed by a non-linear function for example. This is only one example! Its called logisitc regression. The output of this classification is a binary 0 or 1 classification.\n",
    "  \n",
    "      y = f(u); u = f(wx + b)\n",
    "  \n",
    "\n",
    "one example non-linear function is the logistic sigmoid non-linearity : \n",
    "\n",
    "      f(u) = 1/{1 + e^{-u}}\n",
    "     \n",
    "THen you try to minimize a loss function (which compares the y values predicted from the actual y values) by varying parameters and therefore finds the best set of parameters. A log(p) loss function is a commonly used loss function. sum of square errors is the most basic loss function used in linear regression without the non-linearity\n",
    "      \n",
    "\n",
    "Poisson GLMs - \n",
    "\n",
    "To motivate this he talks about encoding behavior as neural activty and decoding neural activity to predict behavior. Using a monkey hand moving BMI as an example.\n",
    "\n",
    "Here an exponential non-linear function is primarily used. Followed by a log of p loss function again.\n",
    "\n",
    "Look into the logic behind choice of loss function. The choice of loss function depends on the non-linearity you are using in the GLM\n",
    "\n",
    "\n",
    "Sparse Regression - \n",
    "\n",
    "Have a penalty for using features. Trade off between loss function and penalty function.\n",
    "\n",
    "L1 norm is used as a penalty function in many cases."
   ]
  }
 ],
 "metadata": {
  "kernelspec": {
   "display_name": "Python 3",
   "language": "python",
   "name": "python3"
  },
  "language_info": {
   "codemirror_mode": {
    "name": "ipython",
    "version": 3
   },
   "file_extension": ".py",
   "mimetype": "text/x-python",
   "name": "python",
   "nbconvert_exporter": "python",
   "pygments_lexer": "ipython3",
   "version": "3.6.3"
  }
 },
 "nbformat": 4,
 "nbformat_minor": 2
}
